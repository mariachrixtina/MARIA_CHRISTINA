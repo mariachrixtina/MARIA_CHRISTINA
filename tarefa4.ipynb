{
  "cells": [
    {
      "cell_type": "code",
      "execution_count": 1,
      "metadata": {
        "colab": {
          "base_uri": "https://localhost:8080/"
        },
        "id": "AsOJbBS0w_b7",
        "outputId": "b86c5672-d233-4de2-9b16-026bd599e530"
      },
      "outputs": [
        {
          "name": "stdout",
          "output_type": "stream",
          "text": [
            "\n",
            "Random State: 42\n",
            "K=3: Média da acurácia = 0.7036, Desvio Padrão = 0.1392\n",
            "K=5: Média da acurácia = 0.6641, Desvio Padrão = 0.1001\n",
            "\n",
            "Random State: 17\n",
            "K=3: Média da acurácia = 0.6987, Desvio Padrão = 0.1040\n",
            "K=5: Média da acurácia = 0.6876, Desvio Padrão = 0.1121\n",
            "\n",
            "Random State: 24\n",
            "K=3: Média da acurácia = 0.7127, Desvio Padrão = 0.0968\n",
            "K=5: Média da acurácia = 0.7127, Desvio Padrão = 0.0940\n",
            "\n",
            "Para Random State 42, o melhor valor de K é 3 com acurácia média de 0.7036\n",
            "\n",
            "Para Random State 17, o melhor valor de K é 3 com acurácia média de 0.6987\n",
            "\n",
            "Para Random State 24, o melhor valor de K é 3 com acurácia média de 0.7127\n"
          ]
        }
      ],
      "source": [
        "# Importação das bibliotecas necessárias\n",
        "import pandas as pd\n",
        "from sklearn.model_selection import KFold\n",
        "from sklearn.neighbors import KNeighborsClassifier\n",
        "from sklearn.metrics import accuracy_score\n",
        "import numpy as np\n",
        "\n",
        "# 1. Carregar o Dataset\n",
        "url = 'https://archive.ics.uci.edu/ml/machine-learning-databases/wine/wine.data'\n",
        "column_names_pt_br = [\n",
        "    'classe', 'alcool', 'acido_malico', 'cinzas', 'alcalinidade_de_cinzas',\n",
        "    'magnesio', 'fenois_totais', 'flavanoides', 'fenois_nao_flavanoides',\n",
        "    'proantocianinas', 'intensidade_de_cor', 'matiz',\n",
        "    'od280_od315_de_vinhos_diluidos', 'prolina'\n",
        "]\n",
        "vinhos = pd.read_csv(url, names=column_names_pt_br, dtype={'classe': object})\n",
        "\n",
        "# 2. Pré-processamento dos Dados\n",
        "X = vinhos.drop(columns='classe')\n",
        "y = vinhos['classe']\n",
        "\n",
        "# Função para realizar o experimento\n",
        "def realizar_experimento(random_state, k_values=[3, 5]):\n",
        "    resultados = {}\n",
        "    for k in k_values:\n",
        "        accuracies = []\n",
        "\n",
        "        # Configuração do KFold\n",
        "        kf = KFold(n_splits=10, shuffle=True, random_state=random_state)\n",
        "\n",
        "        for train_index, test_index in kf.split(X):\n",
        "            X_train, X_test = X.iloc[train_index], X.iloc[test_index]\n",
        "            y_train, y_test = y.iloc[train_index], y.iloc[test_index]\n",
        "\n",
        "            # Treinamento e avaliação do modelo KNN\n",
        "            knn = KNeighborsClassifier(n_neighbors=k)\n",
        "            knn.fit(X_train, y_train)\n",
        "            y_pred = knn.predict(X_test)\n",
        "            accuracy = accuracy_score(y_test, y_pred)\n",
        "            accuracies.append(accuracy)\n",
        "\n",
        "        # Armazenamento dos resultados\n",
        "        resultados[k] = {\n",
        "            'media': np.mean(accuracies),\n",
        "            'desvio_padrao': np.std(accuracies)\n",
        "        }\n",
        "\n",
        "    return resultados\n",
        "\n",
        "# 3. Execução dos Experimentos\n",
        "random_states = [42, 17, 24]\n",
        "resultados_finais = {}\n",
        "\n",
        "for random_state in random_states:\n",
        "    resultados_finais[random_state] = realizar_experimento(random_state)\n",
        "\n",
        "# Exibir os resultados\n",
        "for random_state, resultados in resultados_finais.items():\n",
        "    print(f\"\\nRandom State: {random_state}\")\n",
        "    for k, valores in resultados.items():\n",
        "        print(f\"K={k}: Média da acurácia = {valores['media']:.4f}, Desvio Padrão = {valores['desvio_padrao']:.4f}\")\n",
        "\n",
        "# 4. Análise Final\n",
        "for random_state, resultados in resultados_finais.items():\n",
        "    melhor_k = max(resultados, key=lambda k: resultados[k]['media'])\n",
        "    print(f\"\\nPara Random State {random_state}, o melhor valor de K é {melhor_k} com acurácia média de {resultados[melhor_k]['media']:.4f}\")\n"
      ]
    }
  ],
  "metadata": {
    "colab": {
      "provenance": []
    },
    "kernelspec": {
      "display_name": "Python 3",
      "name": "python3"
    },
    "language_info": {
      "name": "python"
    }
  },
  "nbformat": 4,
  "nbformat_minor": 0
}
