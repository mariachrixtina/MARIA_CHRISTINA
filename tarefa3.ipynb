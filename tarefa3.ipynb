{
  "cells": [
    {
      "cell_type": "code",
      "execution_count": 3,
      "metadata": {
        "colab": {
          "base_uri": "https://localhost:8080/"
        },
        "id": "YZLco2lHuzg6",
        "outputId": "4601e8ea-d750-4293-8d3b-eb6955c88124"
      },
      "outputs": [
        {
          "name": "stdout",
          "output_type": "stream",
          "text": [
            "\n",
            "Random State: 42\n",
            "  k = 3 -> Acurácia: 0.7407\n",
            "  k = 5 -> Acurácia: 0.7407\n",
            "\n",
            "Random State: 17\n",
            "  k = 3 -> Acurácia: 0.6481\n",
            "  k = 5 -> Acurácia: 0.6667\n",
            "\n",
            "Random State: 24\n",
            "  k = 3 -> Acurácia: 0.7407\n",
            "  k = 5 -> Acurácia: 0.6667\n",
            "\n",
            "Melhor configuração: k = 3, random_state = 42\n",
            "Acurácia da melhor configuração: 0.7407\n"
          ]
        }
      ],
      "source": [
        "# Importação das bibliotecas necessárias\n",
        "import pandas as pd\n",
        "from sklearn.model_selection import train_test_split\n",
        "from sklearn.neighbors import KNeighborsClassifier\n",
        "from sklearn.metrics import accuracy_score\n",
        "\n",
        "# 1. Carregamento dos Dados\n",
        "# URL do dataset Wine\n",
        "url = 'https://archive.ics.uci.edu/ml/machine-learning-databases/wine/wine.data'\n",
        "\n",
        "# Nome das colunas em português BR\n",
        "column_names_pt_br = [\n",
        "    'classe',\n",
        "    'alcool',\n",
        "    'acido_malico',\n",
        "    'cinzas',\n",
        "    'alcalinidade_de_cinzas',\n",
        "    'magnesio',\n",
        "    'fenois_totais',\n",
        "    'flavanoides',\n",
        "    'fenois_nao_flavanoides',\n",
        "    'proantocianinas',\n",
        "    'intensidade_de_cor',\n",
        "    'matiz',\n",
        "    'od280_od315_de_vinhos_diluidos',\n",
        "    'prolina'\n",
        "]\n",
        "\n",
        "# Ler o arquivo CSV com as colunas especificadas, definindo a coluna 'classe' como object\n",
        "vinhos = pd.read_csv(url, names=column_names_pt_br, dtype={'classe': object})\n",
        "\n",
        "# Separar as features e o target\n",
        "X = vinhos.drop('classe', axis=1)\n",
        "y = vinhos['classe']\n",
        "\n",
        "# Função para treinar e avaliar o modelo\n",
        "def treinar_avaliar_knn(X, y, k, random_state):\n",
        "    # Divisão dos dados em treino e teste (70% treino, 30% teste)\n",
        "    X_train, X_test, y_train, y_test = train_test_split(X, y, test_size=0.3, random_state=random_state)\n",
        "\n",
        "    # Treinamento do modelo KNN com k vizinhos\n",
        "    knn = KNeighborsClassifier(n_neighbors=k)\n",
        "    knn.fit(X_train, y_train)\n",
        "\n",
        "    # Previsão e cálculo da acurácia\n",
        "    y_pred = knn.predict(X_test)\n",
        "    accuracy = accuracy_score(y_test, y_pred)\n",
        "\n",
        "    return accuracy\n",
        "\n",
        "# Definindo os valores de k e random_state para os experimentos\n",
        "ks = [3, 5]\n",
        "random_states = [42, 17, 24]\n",
        "\n",
        "# Dicionário para armazenar os resultados\n",
        "resultados = {}\n",
        "\n",
        "# Realizando os experimentos\n",
        "for random_state in random_states:\n",
        "    print(f'\\nRandom State: {random_state}')\n",
        "    for k in ks:\n",
        "        accuracy = treinar_avaliar_knn(X, y, k, random_state)\n",
        "        resultados[(k, random_state)] = accuracy\n",
        "        print(f'  k = {k} -> Acurácia: {accuracy:.4f}')\n",
        "\n",
        "# Comparação Final\n",
        "melhor_configuracao = max(resultados, key=resultados.get)\n",
        "print(f'\\nMelhor configuração: k = {melhor_configuracao[0]}, random_state = {melhor_configuracao[1]}')\n",
        "print(f'Acurácia da melhor configuração: {resultados[melhor_configuracao]:.4f}')\n"
      ]
    }
  ],
  "metadata": {
    "colab": {
      "provenance": []
    },
    "kernelspec": {
      "display_name": "Python 3",
      "name": "python3"
    },
    "language_info": {
      "name": "python"
    }
  },
  "nbformat": 4,
  "nbformat_minor": 0
}
