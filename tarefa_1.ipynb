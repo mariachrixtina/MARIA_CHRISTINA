{
 "cells": [
  {
   "cell_type": "code",
   "execution_count": null,
   "metadata": {},
   "outputs": [],
   "source": [
    "import math\n",
    "\n",
    "valores = [4, 6, 3, 4, 5, 8, 4, 2]\n",
    "n = len(valores)\n",
    "\n",
    "\n",
    "media = sum(valores) / n\n",
    "\n",
    "soma_quadrados_diferencas = 0\n",
    "for valor in valores:\n",
    "  soma_quadrados_diferencas += (valor - media) ** 2\n",
    "variancia = soma_quadrados_diferencas / n\n",
    "\n",
    "\n",
    "desvio_padrao = math.sqrt(variancia)\n",
    "\n",
    "print(desvio_padrao)"
   ]
  },
  {
   "cell_type": "code",
   "execution_count": null,
   "metadata": {},
   "outputs": [],
   "source": [
    "valores = [4, 6, 3, 4, 5, 8, 4, 2]\n",
    "valores.sort()\n",
    "n = len(valores)\n",
    "if n % 2 == 0:\n",
    "  mediana = (valores[n//2 - 1] + valores[n//2]) / 2\n",
    "else:\n",
    "  mediana = valores[n//2]\n",
    "print(mediana)"
   ]
  },
  {
   "cell_type": "code",
   "execution_count": null,
   "metadata": {},
   "outputs": [],
   "source": [
    "valores = [4, 6, 3, 4, 5, 8, 4, 2]\n",
    "media = sum(valores) / len(valores)\n",
    "print(media)\n"
   ]
  },
  {
   "cell_type": "code",
   "execution_count": null,
   "metadata": {},
   "outputs": [],
   "source": [
    "valores = [4, 6, 3, 4, 5, 8, 4, 2]\n",
    "valor_minimo = min(valores)\n",
    "print(valor_minimo)"
   ]
  },
  {
   "cell_type": "code",
   "execution_count": null,
   "metadata": {},
   "outputs": [],
   "source": [
    "valores = [4, 6, 3, 4, 5, 8, 4, 2]\n",
    "valor_maximo = max(valores)\n",
    "print(valor_maximo)"
   ]
  }
 ],
 "metadata": {
  "language_info": {
   "name": "python"
  }
 },
 "nbformat": 4,
 "nbformat_minor": 2
}
