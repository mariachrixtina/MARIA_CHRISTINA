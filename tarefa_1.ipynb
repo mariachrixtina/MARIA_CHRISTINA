{
 "cells": [
  {
   "cell_type": "markdown",
   "metadata": {},
   "source": [
    "**Tarefa 1 - Machine Learning** - Maria Christina Santos Barbosa (01565538)"
   ]
  },
  {
   "cell_type": "code",
   "execution_count": 61,
   "metadata": {},
   "outputs": [
    {
     "name": "stdout",
     "output_type": "stream",
     "text": [
      "8\n"
     ]
    }
   ],
   "source": [
    "valores = [4, 6, 3, 4, 5, 8, 4, 2]\n",
    "valor_maximo = max(valores)\n",
    "print(valor_maximo)"
   ]
  },
  {
   "cell_type": "code",
   "execution_count": 62,
   "metadata": {},
   "outputs": [
    {
     "name": "stdout",
     "output_type": "stream",
     "text": [
      "2\n"
     ]
    }
   ],
   "source": [
    "valores = [4, 6, 3, 4, 5, 8, 4, 2]\n",
    "valor_minimo = min(valores)\n",
    "print(valor_minimo)"
   ]
  },
  {
   "cell_type": "code",
   "execution_count": 63,
   "metadata": {},
   "outputs": [
    {
     "name": "stdout",
     "output_type": "stream",
     "text": [
      "4.5\n"
     ]
    }
   ],
   "source": [
    "valores = [4, 6, 3, 4, 5, 8, 4, 2]\n",
    "media = sum(valores) / len(valores)\n",
    "print(media)\n"
   ]
  },
  {
   "cell_type": "code",
   "execution_count": 64,
   "metadata": {},
   "outputs": [
    {
     "name": "stdout",
     "output_type": "stream",
     "text": [
      "4.0\n"
     ]
    }
   ],
   "source": [
    "valores = [4, 6, 3, 4, 5, 8, 4, 2]\n",
    "valores.sort()\n",
    "n = len(valores)\n",
    "if n % 2 == 0:\n",
    "  mediana = (valores[n//2 - 1] + valores[n//2]) / 2\n",
    "else:\n",
    "  mediana = valores[n//2]\n",
    "print(mediana)"
   ]
  },
  {
   "cell_type": "code",
   "execution_count": 65,
   "metadata": {},
   "outputs": [
    {
     "name": "stdout",
     "output_type": "stream",
     "text": [
      "1.7320508075688772\n"
     ]
    }
   ],
   "source": [
    "import math\n",
    "\n",
    "valores = [4, 6, 3, 4, 5, 8, 4, 2]\n",
    "n = len(valores)\n",
    "\n",
    "\n",
    "media = sum(valores) / n\n",
    "\n",
    "soma_quadrados_diferencas = 0\n",
    "for valor in valores:\n",
    "  soma_quadrados_diferencas += (valor - media) ** 2\n",
    "variancia = soma_quadrados_diferencas / n\n",
    "\n",
    "\n",
    "desvio_padrao = math.sqrt(variancia)\n",
    "\n",
    "print(desvio_padrao)"
   ]
  }
 ],
 "metadata": {
  "language_info": {
   "name": "python"
  }
 },
 "nbformat": 4,
 "nbformat_minor": 2
}
