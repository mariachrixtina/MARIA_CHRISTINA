{
  "cells": [
    {
      "cell_type": "code",
      "execution_count": 2,
      "metadata": {
        "id": "Ams_tLR308nn"
      },
      "outputs": [],
      "source": [
        "# Importar bibliotecas necessárias\n",
        "import pandas as pd\n",
        "from sklearn.preprocessing import MinMaxScaler\n",
        "from sklearn.cluster import KMeans\n",
        "\n",
        "# 1. Leitura dos dados\n",
        "url = 'https://archive.ics.uci.edu/ml/machine-learning-databases/wine/wine.data'\n",
        "column_names_pt_br = [\n",
        "    'classe',\n",
        "    'alcool',\n",
        "    'acido_malico',\n",
        "    'cinzas',\n",
        "    'alcalinidade_de_cinzas',\n",
        "    'magnesio',\n",
        "    'fenois_totais',\n",
        "    'flavanoides',\n",
        "    'fenois_nao_flavanoides',\n",
        "    'proantocianinas',\n",
        "    'intensidade_de_cor',\n",
        "    'matiz',\n",
        "    'od280_od315_de_vinhos_diluidos',\n",
        "    'prolina'\n",
        "]\n",
        "vinhos = pd.read_csv(url, names=column_names_pt_br, dtype={'classe': object})"
      ]
    },
    {
      "cell_type": "code",
      "execution_count": 3,
      "metadata": {
        "id": "xCeNJbXn09jP"
      },
      "outputs": [],
      "source": [
        "# 2. Normalização dos dados\n",
        "X = vinhos.drop('classe', axis=1)\n",
        "scaler = MinMaxScaler()\n",
        "X_scaled = scaler.fit_transform(X)"
      ]
    },
    {
      "cell_type": "code",
      "execution_count": 4,
      "metadata": {
        "colab": {
          "base_uri": "https://localhost:8080/"
        },
        "id": "mWzJ3HvM1BCn",
        "outputId": "e8b0b7d9-b41a-4d62-ab35-d3ac604bd18f"
      },
      "outputs": [
        {
          "name": "stdout",
          "output_type": "stream",
          "text": [
            "Inércia do modelo K-Means: 44.887604580852816\n"
          ]
        }
      ],
      "source": [
        "# 3. Aplicação do K-Means\n",
        "kmeans = KMeans(n_clusters=4, random_state=42)\n",
        "vinhos['cluster'] = kmeans.fit_predict(X_scaled)\n",
        "\n",
        "# Exibir a inércia do modelo\n",
        "print(f'Inércia do modelo K-Means: {kmeans.inertia_}')"
      ]
    },
    {
      "cell_type": "code",
      "execution_count": 5,
      "metadata": {
        "colab": {
          "base_uri": "https://localhost:8080/"
        },
        "id": "J85sByeI1CzO",
        "outputId": "8deb3b2c-8a04-40ea-9afe-84d1c88f6725"
      },
      "outputs": [
        {
          "name": "stdout",
          "output_type": "stream",
          "text": [
            "\n",
            "Distribuição dos clusters:\n",
            "cluster\n",
            "2    59\n",
            "1    50\n",
            "0    36\n",
            "3    33\n",
            "Name: count, dtype: int64\n"
          ]
        }
      ],
      "source": [
        "# 4. Análise dos clusters\n",
        "print(\"\\nDistribuição dos clusters:\")\n",
        "print(vinhos['cluster'].value_counts())\n"
      ]
    },
    {
      "cell_type": "code",
      "execution_count": 6,
      "metadata": {
        "colab": {
          "base_uri": "https://localhost:8080/"
        },
        "id": "eVBWwISw1Dqf",
        "outputId": "69c04ccb-7714-4bbc-b18b-7a16d4364ed2"
      },
      "outputs": [
        {
          "name": "stdout",
          "output_type": "stream",
          "text": [
            "\n",
            "Comparação entre clusters e classes originais (Groupby):\n",
            "cluster  classe\n",
            "0        2         34\n",
            "         1          2\n",
            "1        3         48\n",
            "         2          2\n",
            "2        1         57\n",
            "         2          2\n",
            "3        2         33\n",
            "Name: count, dtype: int64\n",
            "\n",
            "Comparação entre clusters e classes originais (Crosstab):\n",
            "cluster   0   1   2   3\n",
            "classe                 \n",
            "1         2   0  57   0\n",
            "2        34   2   2  33\n",
            "3         0  48   0   0\n"
          ]
        }
      ],
      "source": [
        "# 5. Comparação com classes originais\n",
        "print(\"\\nComparação entre clusters e classes originais (Groupby):\")\n",
        "comparacao_groupby = vinhos.groupby('cluster')['classe'].value_counts()\n",
        "print(comparacao_groupby)\n",
        "\n",
        "print(\"\\nComparação entre clusters e classes originais (Crosstab):\")\n",
        "comparacao_crosstab = pd.crosstab(vinhos['classe'], vinhos['cluster'])\n",
        "print(comparacao_crosstab)"
      ]
    }
  ],
  "metadata": {
    "colab": {
      "provenance": []
    },
    "kernelspec": {
      "display_name": "Python 3",
      "name": "python3"
    },
    "language_info": {
      "name": "python"
    }
  },
  "nbformat": 4,
  "nbformat_minor": 0
}
